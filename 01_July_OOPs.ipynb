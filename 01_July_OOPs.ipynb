{
 "cells": [
  {
   "cell_type": "markdown",
   "id": "9841e998",
   "metadata": {},
   "source": [
    "# 1.What is the primary goal of Object-Oriented Programming (OOP)?"
   ]
  },
  {
   "cell_type": "markdown",
   "id": "9e69b5b1",
   "metadata": {},
   "source": [
    "### The primary goal of oobject orineted programing is to improve the the structure and organization of software modelinig real worl entities and theier interactions.\n"
   ]
  },
  {
   "cell_type": "markdown",
   "id": "455988c5",
   "metadata": {},
   "source": [
    "#### This is achieved through several key principles:\n"
   ]
  },
  {
   "cell_type": "markdown",
   "id": "f7bf3aa4",
   "metadata": {},
   "source": [
    "#### 1. Encapsulation:\n",
    "Bundling the data (attributes) and methods (functions) that operate on the data into a single unit or \n",
    "class, which helps to protect the data from unintended interference and misuse."
   ]
  },
  {
   "cell_type": "markdown",
   "id": "a7391890",
   "metadata": {},
   "source": [
    "#### 2. Abstraction: \n",
    "Hiding complex implementation details and showing only the essential features of an object, allowing programmers to work at a higher level of abstraction.\n"
   ]
  },
  {
   "cell_type": "markdown",
   "id": "95b3aeba",
   "metadata": {},
   "source": [
    "#### 3. Inheritance: \n",
    "Allowing new classes to inherit properties and behaviors from existing classes, which promotes code reuse and the creation of a hierarchical relationship between classes.\n",
    "\n"
   ]
  },
  {
   "cell_type": "markdown",
   "id": "22845d11",
   "metadata": {},
   "source": [
    "#### 4. Polymorphism: \n",
    "Enabling objects to be treated as instances of their parent class rather than their actual class, allowing methods to be used interchangeably and promoting flexibility in code.\n",
    "\n",
    "Overall, OOP aims to make code more modular, reusable, and easier to maintain by mimicking real-world scenarios and creating a clear structure for organizing complex systems."
   ]
  },
  {
   "cell_type": "markdown",
   "id": "e496902a",
   "metadata": {},
   "source": [
    "### The primary goal of Object-Oriented Programming\n",
    "\n",
    "The primary goal of Object-Oriented Programming (OOP) is to manage software complexity by modeling real-world entities and their interactions. This is achieved through organizing code around objects, which combine data and behavior, and following principles like encapsulation, inheritance, and polymorphism. This approach helps in creating modular, reusable, and maintainable code.\n",
    "\n",
    "### Example: Modeling a School System\n",
    "\n",
    "Scenario: Suppose you want to design a school management system to handle students and teachers. Using OOP, you can model this system as follows:\n",
    "\n",
    "1. Classes and Objects: Create classes for `Student` and `Teacher`, each representing real-world entities in the school.\n",
    "\n",
    "2. Encapsulation: Bundle the data (e.g., name, age) and behavior (e.g., enroll in a course, teach a subject) within these classes.\n",
    "\n",
    "3. Inheritance: Share common attributes and methods between classes using inheritance. For example, both students and teachers might have a `Person` class as a common base.\n",
    "\n",
    "4. Polymorphism: Use a common interface to interact with different types of objects. For example, you might have a method that works for both `Student` and `Teacher`.\n",
    "\n",
    "Here’s a Python example illustrating these concepts:\n"
   ]
  },
  {
   "cell_type": "code",
   "execution_count": 1,
   "id": "328f8791",
   "metadata": {},
   "outputs": [],
   "source": [
    "\n",
    "\n",
    "# Base class for common attributes\n",
    "class Person:\n",
    "    def __init__(self, name, age):\n",
    "        self.name = name\n",
    "        self.age = age\n",
    "    \n",
    "    def get_info(self):\n",
    "        return f\"Name: {self.name}, Age: {self.age}\"\n",
    "\n"
   ]
  },
  {
   "cell_type": "code",
   "execution_count": 2,
   "id": "ed273af8",
   "metadata": {},
   "outputs": [],
   "source": [
    "# Derived class for Students\n",
    "class Student(Person):\n",
    "    def __init__(self, name, age, student_id):\n",
    "        super().__init__(name, age)\n",
    "        self.student_id = student_id\n",
    "    \n",
    "    def get_info(self):\n",
    "        return f\"{super().get_info()}, Student ID: {self.student_id}\"\n",
    "\n"
   ]
  },
  {
   "cell_type": "code",
   "execution_count": 3,
   "id": "8928d9b9",
   "metadata": {},
   "outputs": [],
   "source": [
    "# Derived class for Teachers\n",
    "class Teacher(Person):\n",
    "    def __init__(self, name, age, employee_id):\n",
    "        super().__init__(name, age)\n",
    "        self.employee_id = employee_id\n",
    "    \n",
    "    def get_info(self):\n",
    "        return f\"{super().get_info()}, Employee ID: {self.employee_id}\"\n",
    "\n"
   ]
  },
  {
   "cell_type": "code",
   "execution_count": 4,
   "id": "f563cf30",
   "metadata": {},
   "outputs": [
    {
     "name": "stdout",
     "output_type": "stream",
     "text": [
      "Name: Alice, Age: 20, Student ID: S12345\n",
      "Name: Mr. Smith, Age: 45, Employee ID: T98765\n"
     ]
    }
   ],
   "source": [
    "# Example usage\n",
    "student = Student(\"Alice\", 20, \"S12345\")\n",
    "teacher = Teacher(\"Mr. Smith\", 45, \"T98765\")\n",
    "\n",
    "print(student.get_info())  # Output: Name: Alice, Age: 20, Student ID: S12345\n",
    "print(teacher.get_info())  # Output: Name: Mr. Smith, Age: 45, Employee ID: T98765\n",
    "\n",
    "\n"
   ]
  },
  {
   "cell_type": "markdown",
   "id": "8841e13d",
   "metadata": {},
   "source": [
    "### Breakdown of OOP Goals:\n",
    "\n",
    "- **Encapsulation**: The `Person` class encapsulates common attributes like `name` and `age`. The `Student` and `Teacher` classes extend `Person` and add specific attributes and behaviors.\n",
    "- **Abstraction**: The `get_info` method provides a way to retrieve information about a person, hiding the details of how the information is formatted.\n",
    "- **Inheritance**: `Student` and `Teacher` inherit from `Person`, allowing them to reuse and extend its functionality.\n",
    "- **Polymorphism**: Both `Student` and `Teacher` have their own versions of `get_info`, but they can be used interchangeably if working with a collection of `Person` objects.\n",
    "\n",
    "By using OOP, the system is organized into modular components that reflect real-world relationships, making the code more intuitive, reusable, and easier to maintain."
   ]
  },
  {
   "cell_type": "code",
   "execution_count": null,
   "id": "2bf268f0",
   "metadata": {},
   "outputs": [],
   "source": []
  },
  {
   "cell_type": "code",
   "execution_count": null,
   "id": "851b247a",
   "metadata": {},
   "outputs": [],
   "source": []
  },
  {
   "cell_type": "markdown",
   "id": "6c36f09e",
   "metadata": {},
   "source": [
    "# 2. What is an object in Python?"
   ]
  },
  {
   "cell_type": "markdown",
   "id": "52f7b748",
   "metadata": {},
   "source": [
    "### In this Python, an object is a fundamental concept that represents an instance of a class. It is a collection of data (attributes) and functions (methods) that operate on that data. Here are the key characteristics of objects in Python:\n",
    "\n",
    "#### 1. Attributes: \n",
    "These are variables associated with an object that hold its data. For example, if you have a `Car` class, an object of this class might have attributes like `color`, `make`, and `model`.\n",
    "\n"
   ]
  },
  {
   "cell_type": "markdown",
   "id": "94914651",
   "metadata": {},
   "source": [
    "#### 2. Methods: \n",
    "These are functions defined within a class that operate on the object's attributes. Methods define the behaviors of an object. For instance, a `Car` object might have methods like `drive()` or `brake()`.\n",
    "\n"
   ]
  },
  {
   "cell_type": "markdown",
   "id": "383c4fdf",
   "metadata": {},
   "source": [
    "#### 3. Identity: \n",
    "Every object in Python has a unique identity, which is maintained by the interpreter. This identity can be checked using the `id()` function.\n",
    "\n"
   ]
  },
  {
   "cell_type": "markdown",
   "id": "ab888f6b",
   "metadata": {},
   "source": [
    "#### 4. Type: \n",
    "An object has a type that is determined by the class it is an instance of. You can use the `type()` function to determine the type of an object.\n",
    "\n"
   ]
  },
  {
   "cell_type": "markdown",
   "id": "ac7816b0",
   "metadata": {},
   "source": [
    "#### 5. State: \n",
    "The state of an object is determined by its attributes at any given time.\n",
    "\n",
    "In Python, everything is an object, including primitive data types like integers and strings, functions, and even classes themselves. Objects are created by instantiating classes, and classes serve as blueprints for creating objects. Here's a simple example of creating and using an object in Python:\n"
   ]
  },
  {
   "cell_type": "code",
   "execution_count": 5,
   "id": "213609ee",
   "metadata": {},
   "outputs": [
    {
     "name": "stdout",
     "output_type": "stream",
     "text": [
      "Toyota Corolla in Blue\n"
     ]
    }
   ],
   "source": [
    "class Car:\n",
    "    def __init__(self, make, model, color):\n",
    "        self.make = make\n",
    "        self.model = model\n",
    "        self.color = color\n",
    "\n",
    "    def display_info(self):\n",
    "        return f\"{self.make} {self.model} in {self.color}\"\n",
    "\n",
    "# Creating an object of the Car class\n",
    "my_car = Car(\"Toyota\", \"Corolla\", \"Blue\")\n",
    "\n",
    "# Accessing the object's attributes and methods\n",
    "print(my_car.display_info())  # Output: Toyota Corolla in Blue\n",
    "\n",
    "\n"
   ]
  },
  {
   "cell_type": "markdown",
   "id": "5909cf2e",
   "metadata": {},
   "source": [
    "#### In this example, `my_car` is an object of the `Car` class, with attributes `make`, `model`, and `color`, and a method `display_info()` that returns a string describing the car.\n"
   ]
  },
  {
   "cell_type": "markdown",
   "id": "0685d26c",
   "metadata": {},
   "source": [
    "# 3. What is a class in Python?\n",
    "\n",
    "In Python, a class is a blueprint for creating objects. It defines a set of attributes and methods that the objects created from the class will have. Classes provide a way to bundle data and functionality together, allowing you to create and manage instances of objects in a structured manner.\n",
    "\n",
    "### Key Components of a Class:\n",
    "1. **Attributes**: Variables that hold data specific to the class and its objects.\n",
    "2. **Methods**: Functions defined within a class that operate on the class's attributes or perform other operations related to the class.\n",
    "3. **Constructor (`__init__` method)**: A special method used to initialize new objects of the class with specific values.\n",
    "\n"
   ]
  },
  {
   "cell_type": "code",
   "execution_count": 6,
   "id": "2680c40c",
   "metadata": {},
   "outputs": [],
   "source": [
    "### Example: Creating a `Car` Class\n",
    "\n",
    "#### Here’s a simple example of defining and using a class in Python:\n",
    "\n",
    "# Defining the Car class\n",
    "class Car:\n",
    "    # Constructor method to initialize attributes\n",
    "    def __init__(self, make, model, year):\n",
    "        self.make = make      # Attribute for car make\n",
    "        self.model = model    # Attribute for car model\n",
    "        self.year = year      # Attribute for car year\n",
    "\n",
    "    # Method to display car details\n",
    "    def display_info(self):\n",
    "        return f\"{self.year} {self.make} {self.model}\"\n",
    "\n",
    "    # Method to start the car\n",
    "    def start_engine(self):\n",
    "        return \"The engine is now running.\"\n"
   ]
  },
  {
   "cell_type": "code",
   "execution_count": 7,
   "id": "e1198878",
   "metadata": {},
   "outputs": [],
   "source": [
    "\n",
    "# Creating an instance (object) of the Car class\n",
    "my_car = Car(\"XUV700\", \"Blue\", 2024)\n",
    "\n"
   ]
  },
  {
   "cell_type": "code",
   "execution_count": 8,
   "id": "64b09175",
   "metadata": {},
   "outputs": [
    {
     "name": "stdout",
     "output_type": "stream",
     "text": [
      "2024 XUV700 Blue\n"
     ]
    }
   ],
   "source": [
    "# Accessing the object's attributes and methods\n",
    "print(my_car.display_info())  # Output: 2020 Toyota Corolla\n"
   ]
  },
  {
   "cell_type": "code",
   "execution_count": 9,
   "id": "efe45ed8",
   "metadata": {},
   "outputs": [
    {
     "name": "stdout",
     "output_type": "stream",
     "text": [
      "The engine is now running.\n"
     ]
    }
   ],
   "source": [
    "print(my_car.start_engine())  # Output: The engine is now running.\n"
   ]
  },
  {
   "cell_type": "code",
   "execution_count": null,
   "id": "65bef0f1",
   "metadata": {},
   "outputs": [],
   "source": []
  },
  {
   "cell_type": "markdown",
   "id": "8ccc3f2f",
   "metadata": {},
   "source": [
    "\n",
    "### Breakdown of the Example:\n",
    "\n",
    "1. **Class Definition**: The `Car` class is defined with attributes `make`, `model`, and `year`, and methods `display_info` and `start_engine`.\n",
    "   - `__init__` method: Initializes the attributes of a new `Car` object.\n",
    "   - `display_info` method: Returns a string with the car’s details.\n",
    "   - `start_engine` method: Returns a string indicating that the engine is running.\n",
    "\n",
    "2. **Creating an Object**: `my_car` is an instance of the `Car` class. It is created with specific values for `make`, `model`, and `year`.\n",
    "\n",
    "3. **Accessing Attributes and Methods**: You can call methods on the `my_car` object and access its attributes. In this case, `display_info` and `start_engine` are used to interact with the object.\n",
    "\n",
    "### Summary\n",
    "A class in Python acts as a template for creating objects, encapsulating attributes and methods related to a specific concept. It allows for creating multiple objects with similar structure and behavior, facilitating code organization, reuse, and maintainability."
   ]
  },
  {
   "cell_type": "markdown",
   "id": "cba303ba",
   "metadata": {},
   "source": [
    "# 4 .What are attributes and methods in a class?"
   ]
  },
  {
   "cell_type": "markdown",
   "id": "41a0ba23",
   "metadata": {},
   "source": [
    "In Object-Oriented Programming (OOP), attributes and methods are essential components that define the properties and behaviors of objects created from a class. Here’s a detailed breakdown of each:\n",
    "\n",
    "### **Attributes**\n",
    "\n",
    "**Attributes** are variables that belong to a class and represent the state or properties of an object. They can be thought of as the characteristics or data of an object.\n",
    "\n",
    "#### **Types of Attributes:**\n",
    "\n",
    "1. **Instance Attributes**:\n",
    "   - **Definition**: Attributes that are specific to an instance of a class.\n",
    "   - **Example**: Each instance of a class might have different values for its attributes.\n",
    "   - **Syntax**: Defined inside the `__init__` method using `self`.\n",
    "\n",
    "\n",
    "   \n",
    "\n"
   ]
  },
  {
   "cell_type": "code",
   "execution_count": 10,
   "id": "ae9a3a46",
   "metadata": {},
   "outputs": [],
   "source": [
    "class Person:\n",
    "    def __init__(self, name, age):\n",
    "        self.name = name  # Instance attribute\n",
    "        self.age = age    # Instance attribute\n",
    "\n"
   ]
  },
  {
   "cell_type": "markdown",
   "id": "3431d616",
   "metadata": {},
   "source": [
    "2. **Class Attributes**:\n",
    "   - **Definition**: Attributes that are shared among all instances of a class.\n",
    "   - **Example**: A class attribute would be common to all instances and is defined directly within the class body.\n",
    "   - **Syntax**: Defined directly in the class body, not within methods.\n"
   ]
  },
  {
   "cell_type": "code",
   "execution_count": 11,
   "id": "24da6a78",
   "metadata": {},
   "outputs": [],
   "source": [
    "class Person:\n",
    "        species = 'Homo sapiens'  # Class attribute\n",
    "        def __init__(self, name, age):\n",
    "            self.name = name\n",
    "            self.age = age\n",
    "   "
   ]
  },
  {
   "cell_type": "markdown",
   "id": "f37dffd2",
   "metadata": {},
   "source": [
    "\n",
    "### **Methods**\n",
    "\n",
    "**Methods** are functions that belong to a class and define the behaviors or actions that an object can perform. They operate on the attributes of the class or perform other functions related to the object.\n",
    "\n",
    "#### **Types of Methods:**\n",
    "\n",
    "\n",
    "1. **Instance Methods**:\n",
    "   - **Definition**: Methods that operate on instance attributes and can modify the object's state.\n",
    "   - **Syntax**: Defined with `self` as the first parameter.\n",
    "\n"
   ]
  },
  {
   "cell_type": "code",
   "execution_count": 12,
   "id": "ff4a4c1a",
   "metadata": {},
   "outputs": [],
   "source": [
    "\n",
    "   class Person:\n",
    "        def __init__(self, name, age):\n",
    "            self.name = name\n",
    "            self.age = age\n",
    "\n",
    "        def greet(self):\n",
    "            return f\"Hello, my name is {self.name}.\"\n"
   ]
  },
  {
   "cell_type": "markdown",
   "id": "09234b2e",
   "metadata": {},
   "source": [
    "\n",
    "2. **Class Methods**:\n",
    "   - **Definition**: Methods that operate on class attributes and can modify the class state. They are defined using the `@classmethod` decorator.\n",
    "   - **Syntax**: Defined with `cls` as the first parameter.\n"
   ]
  },
  {
   "cell_type": "code",
   "execution_count": 13,
   "id": "4b526708",
   "metadata": {},
   "outputs": [],
   "source": [
    "class Person:\n",
    "    species = 'Homo sapiens'\n",
    "    def get_species(cls):\n",
    "        return cls.species\n",
    "\n"
   ]
  },
  {
   "cell_type": "markdown",
   "id": "af6bdab2",
   "metadata": {},
   "source": [
    "3. **Static Methods**:\n",
    "   - **Definition**: Methods that do not operate on class or instance attributes. They are defined using the `@staticmethod` decorator and do not take `self` or `cls` as parameters.\n",
    "   - **Syntax**: Defined with no `self` or `cls` parameters.\n",
    "\n",
    " \n",
    "   "
   ]
  },
  {
   "cell_type": "code",
   "execution_count": 14,
   "id": "760ebb9b",
   "metadata": {},
   "outputs": [],
   "source": [
    "class Person:\n",
    "       def is_adult(age):\n",
    "        return age >= 18\n",
    "\n"
   ]
  },
  {
   "cell_type": "code",
   "execution_count": 15,
   "id": "8d037afd",
   "metadata": {},
   "outputs": [],
   "source": [
    "\n",
    "### **Example**\n",
    "\n",
    "#Here’s a combined example that demonstrates attributes and methods in a class:\n",
    "\n",
    "class Person:\n",
    "    # Class Attribute\n",
    "    species = 'Homo sapiens' \n",
    "    def __init__(self, name, age):\n",
    "        # Instance Attributes\n",
    "        self.name = name\n",
    "        self.age = age\n",
    "\n",
    "    # Instance Method\n",
    "    def greet(self):\n",
    "        return f\"Hello, my name is {self.name}.\"\n",
    "\n",
    "    # Instance Method\n",
    "    def have_birthday(self):\n",
    "        self.age += 1\n",
    "        return f\"Happy {self.age}th birthday, {self.name}!\"\n",
    "\n",
    " # Class Method\n",
    "    @classmethod\n",
    "    def get_species(cls):\n",
    "        return cls.species\n",
    "\n",
    "    # Static Method\n",
    "    def is_adult(age):\n",
    "        return age >= 18\n",
    "\n"
   ]
  },
  {
   "cell_type": "code",
   "execution_count": 16,
   "id": "6bb151c1",
   "metadata": {},
   "outputs": [],
   "source": [
    "# Creating instances of the class\n",
    "person1 = Person('Alice', 30)\n",
    "person2 = Person('Bob', 25)\n",
    "\n",
    "\n"
   ]
  },
  {
   "cell_type": "code",
   "execution_count": 17,
   "id": "d7b11d55",
   "metadata": {},
   "outputs": [
    {
     "name": "stdout",
     "output_type": "stream",
     "text": [
      "Alice\n",
      "Hello, my name is Alice.\n",
      "Happy 31th birthday, Alice!\n"
     ]
    }
   ],
   "source": [
    "# Accessing instance attributes and methods\n",
    "print(person1.name)  # Output: Alice\n",
    "print(person1.greet())  # Output: Hello, my name is Alice.\n",
    "print(person1.have_birthday())  # Output: Happy 31th birthday, Alice!\n",
    "\n"
   ]
  },
  {
   "cell_type": "code",
   "execution_count": 18,
   "id": "0cac2574",
   "metadata": {},
   "outputs": [
    {
     "name": "stdout",
     "output_type": "stream",
     "text": [
      "Homo sapiens\n"
     ]
    }
   ],
   "source": [
    "# Accessing class attributes and methods\n",
    "print(Person.get_species())  # Output: Homo sapiens"
   ]
  },
  {
   "cell_type": "code",
   "execution_count": 19,
   "id": "fc87e124",
   "metadata": {},
   "outputs": [
    {
     "name": "stdout",
     "output_type": "stream",
     "text": [
      "True\n",
      "False\n"
     ]
    }
   ],
   "source": [
    "# Using static methods\n",
    "print(Person.is_adult(30))  # Output: True\n",
    "print(Person.is_adult(15))  # Output: False\n",
    "\n"
   ]
  },
  {
   "cell_type": "markdown",
   "id": "5c18e9b4",
   "metadata": {},
   "source": [
    "### **Summary**\n",
    "\n",
    "- **Attributes**: Variables that store data about an object (e.g., `name`, `age`).\n",
    "- **Methods**: Functions that define the behaviors or actions of an object (e.g., `greet`, `have_birthday`).\n",
    "\n",
    "Together, attributes and methods enable you to encapsulate and manage data and behavior in an organized and modular way within a class."
   ]
  },
  {
   "cell_type": "markdown",
   "id": "e341cfa4",
   "metadata": {},
   "source": [
    "#  5. What is the difference between class variables and instance variables in Python?"
   ]
  },
  {
   "cell_type": "markdown",
   "id": "f51c770a",
   "metadata": {},
   "source": [
    "In Python, **class variables** and **instance variables** are two types of attributes used to store data within a class. They differ in terms of their scope and how they are accessed.\n",
    "\n",
    "### **Class Variables**\n",
    "\n",
    "- **Definition**: Class variables are shared among all instances of a class. They are defined within the class but outside any instance methods.\n",
    "- **Scope**: These variables are common to all instances of the class, meaning if you change the value of a class variable, the change will reflect across all instances.\n",
    "- **Usage**: Used to store data or constants that are relevant to the class as a whole rather than to individual instances.\n",
    "\n",
    "#### **Example:**\n",
    "\n"
   ]
  },
  {
   "cell_type": "code",
   "execution_count": 20,
   "id": "c6fff377",
   "metadata": {},
   "outputs": [
    {
     "name": "stdout",
     "output_type": "stream",
     "text": [
      "4\n",
      "4\n",
      "4\n"
     ]
    }
   ],
   "source": [
    "\n",
    "class Car:\n",
    "    # Class Variable\n",
    "    wheels = 4  # All cars have 4 wheels by default\n",
    "\n",
    "    def __init__(self, brand, model):\n",
    "        self.brand = brand  # Instance Variable\n",
    "        self.model = model  # Instance Variable\n",
    "\n",
    "    def display_info(self):\n",
    "        return f\"{self.brand} {self.model} has {Car.wheels} wheels.\"\n",
    "\n",
    "# Creating instances of the class\n",
    "car1 = Car('Toyota', 'Corolla')\n",
    "car2 = Car('Honda', 'Civic')\n",
    "\n",
    "# Accessing class variable through the class and instance\n",
    "print(Car.wheels)        # Output: 4\n",
    "print(car1.wheels)       # Output: 4\n",
    "print(car2.wheels)       # Output: 4\n",
    "\n"
   ]
  },
  {
   "cell_type": "code",
   "execution_count": 21,
   "id": "96436306",
   "metadata": {},
   "outputs": [],
   "source": [
    "# Changing class variable\n",
    "Car.wheels = 6"
   ]
  },
  {
   "cell_type": "code",
   "execution_count": null,
   "id": "c5f84528",
   "metadata": {},
   "outputs": [],
   "source": []
  },
  {
   "cell_type": "code",
   "execution_count": 22,
   "id": "07ca29c9",
   "metadata": {},
   "outputs": [
    {
     "name": "stdout",
     "output_type": "stream",
     "text": [
      "6\n",
      "6\n",
      "6\n"
     ]
    }
   ],
   "source": [
    "# Accessing updated class variable\n",
    "print(Car.wheels)        # Output: 6\n",
    "print(car1.wheels)       # Output: 6\n",
    "print(car2.wheels)       # Output: 6\n"
   ]
  },
  {
   "cell_type": "markdown",
   "id": "5386ba95",
   "metadata": {},
   "source": [
    "### **Instance Variables**\n",
    "\n",
    "- **Definition**: Instance variables are unique to each instance of a class. They are defined within the `__init__` method and are accessed using `self`.\n",
    "- **Scope**: These variables are specific to the instance in which they are defined. Changing an instance variable in one instance does not affect other instances.\n",
    "- **Usage**: Used to store data that is unique to each instance, such as individual properties or attributes.\n",
    "\n",
    "#### **Example:**\n"
   ]
  },
  {
   "cell_type": "code",
   "execution_count": null,
   "id": "1afd250f",
   "metadata": {},
   "outputs": [],
   "source": []
  },
  {
   "cell_type": "code",
   "execution_count": 23,
   "id": "14d6e7d1",
   "metadata": {},
   "outputs": [
    {
     "name": "stdout",
     "output_type": "stream",
     "text": [
      "Toyota Corolla\n",
      "Honda Civic\n",
      "Ford Corolla\n",
      "Honda Civic\n"
     ]
    }
   ],
   "source": [
    "\n",
    "class Car:\n",
    "    def __init__(self, brand, model):\n",
    "        self.brand = brand  # Instance Variable\n",
    "        self.model = model  # Instance Variable\n",
    "\n",
    "    def display_info(self):\n",
    "        return f\"{self.brand} {self.model}\"\n",
    "\n",
    "# Creating instances of the class\n",
    "car1 = Car('Toyota', 'Corolla')\n",
    "car2 = Car('Honda', 'Civic')\n",
    "\n",
    "# Accessing instance variables\n",
    "print(car1.display_info())  # Output: Toyota Corolla\n",
    "print(car2.display_info())  # Output: Honda Civic\n",
    "\n",
    "# Changing instance variable\n",
    "car1.brand = 'Ford'\n",
    "\n",
    "# Accessing updated instance variable\n",
    "print(car1.display_info())  # Output: Ford Corolla\n",
    "print(car2.display_info())  # Output: Honda Civic\n",
    "\n",
    "\n"
   ]
  },
  {
   "cell_type": "markdown",
   "id": "c55de5ac",
   "metadata": {},
   "source": [
    "### **Key Differences**\n",
    "\n",
    "1. **Scope**:\n",
    "   - **Class Variables**: Shared among all instances of the class.\n",
    "   - **Instance Variables**: Unique to each instance of the class.\n",
    "\n",
    "2. **Access**:\n",
    "   - **Class Variables**: Accessed using the class name (`ClassName.variable`) or through an instance (`instance.variable`).\n",
    "   - **Instance Variables**: Accessed only through an instance (`instance.variable`).\n",
    "\n",
    "3. **Modification**:\n",
    "   - **Class Variables**: Changing the class variable affects all instances that reference it.\n",
    "   - **Instance Variables**: Changing the instance variable affects only that specific instance.\n",
    "\n",
    "Understanding these differences helps in organizing and managing data in classes effectively, ensuring that attributes are used in a manner that reflects their intended scope and behavior."
   ]
  },
  {
   "cell_type": "markdown",
   "id": "af574fa9",
   "metadata": {},
   "source": [
    "# 6. What is the purpose of the self parameter in Python class methods?"
   ]
  },
  {
   "cell_type": "markdown",
   "id": "0216cad5",
   "metadata": {},
   "source": [
    "The `self` parameter in Python class methods serves a crucial role in object-oriented programming. It represents the instance of the class and allows access to the instance’s attributes and methods. Here’s a detailed explanation of its purpose and usage:\n",
    "\n",
    "### **Purpose of the `self` Parameter**\n",
    "\n",
    "1. **Instance Access**:\n",
    "   - **Definition**: `self` refers to the instance of the class on which a method is being called. It is used to access instance attributes and methods within a class.\n",
    "   - **Usage**: When you call a method on an instance of a class, `self` allows you to reference that specific instance and its attributes.\n",
    "\n",
    "2. **Accessing Instance Attributes**:\n",
    "   - **Definition**: Attributes defined within the `__init__` method (or other methods) using `self` are unique to each instance.\n",
    "   - **Usage**: `self` allows methods to read or modify these attributes.\n",
    "\n",
    "3. **Calling Other Methods**:\n",
    "   - **Definition**: Methods within the same class can call each other using `self`.\n",
    "   - **Usage**: This allows for organized and modular code by enabling one method to use functionality provided by another.\n",
    "\n",
    "4. **Maintaining Object State**:\n",
    "   - **Definition**: By using `self`, you maintain the state of the object across method calls.\n",
    "   - **Usage**: Changes to instance attributes persist as long as the object exists.\n",
    "\n"
   ]
  },
  {
   "cell_type": "code",
   "execution_count": 24,
   "id": "4bd85330",
   "metadata": {},
   "outputs": [],
   "source": [
    "### **Example**\n",
    "\n",
    "#Here’s an example demonstrating the use of `self` in a Python class:\n",
    "\n",
    "\n",
    "class Person:\n",
    "    def __init__(self, name, age):\n",
    "        self.name = name  # Instance attribute\n",
    "        self.age = age    # Instance attribute\n",
    "\n",
    "    def greet(self):\n",
    "        # Using self to access instance attributes\n",
    "        return f\"Hello, my name is {self.name}.\"\n",
    "\n",
    "    def have_birthday(self):\n",
    "        # Using self to modify instance attribute\n",
    "        self.age += 1\n",
    "        return f\"Happy {self.age}th birthday, {self.name}!\"\n",
    "\n",
    "    def display_info(self):\n",
    "        # Calling another method within the same class\n",
    "        greeting = self.greet()\n",
    "        return f\"{greeting} I am {self.age} years old.\"\n",
    "\n"
   ]
  },
  {
   "cell_type": "code",
   "execution_count": 25,
   "id": "89c4a347",
   "metadata": {},
   "outputs": [
    {
     "name": "stdout",
     "output_type": "stream",
     "text": [
      "Hello, my name is Alice.\n",
      "Happy 31th birthday, Alice!\n",
      "Hello, my name is Alice. I am 31 years old.\n"
     ]
    }
   ],
   "source": [
    "# Creating an instance of the class\n",
    "person = Person('Alice', 30)\n",
    "\n",
    "# Accessing methods\n",
    "print(person.greet())          # Output: Hello, my name is Alice.\n",
    "print(person.have_birthday())  # Output: Happy 31th birthday, Alice!\n",
    "print(person.display_info())   # Output: Hello, my name is Alice. I am 31 years old.\n",
    "\n"
   ]
  },
  {
   "cell_type": "markdown",
   "id": "51d6b43e",
   "metadata": {},
   "source": [
    "\n",
    "### **Key Points**\n",
    "\n",
    "1. **Automatic Passing**:\n",
    "   - **Definition**: When you call a method on an instance, Python automatically passes the instance as the first argument to the method.\n",
    "   - **Usage**: You do not need to pass `self` explicitly when calling methods; Python handles it for you.\n",
    "\n",
    "   "
   ]
  },
  {
   "cell_type": "code",
   "execution_count": 26,
   "id": "967e8dd6",
   "metadata": {},
   "outputs": [
    {
     "data": {
      "text/plain": [
       "'Hello, my name is Alice.'"
      ]
     },
     "execution_count": 26,
     "metadata": {},
     "output_type": "execute_result"
    }
   ],
   "source": [
    "person.greet()  # Equivalent to Person.greet(person)\n"
   ]
  },
  {
   "cell_type": "markdown",
   "id": "06d00cce",
   "metadata": {},
   "source": [
    " \n",
    "\n",
    "2. **Conventions**:\n",
    "   - **Definition**: `self` is a convention, not a keyword. You can name it anything, but `self` is universally used and recommended for readability and consistency.\n",
    "\n",
    "  \n",
    "  \n"
   ]
  },
  {
   "cell_type": "code",
   "execution_count": 27,
   "id": "43b31255",
   "metadata": {},
   "outputs": [],
   "source": [
    " class Person:\n",
    "    def __init__(this, name, age):\n",
    "        this.name = name  # 'this' can be used instead of 'self'\n",
    "        this.age = age\n",
    "   "
   ]
  },
  {
   "cell_type": "markdown",
   "id": "f1bdb698",
   "metadata": {},
   "source": [
    "\n",
    "3. **Instance Context**:\n",
    "   - **Definition**: `self` allows methods to operate within the context of the instance, accessing or modifying instance-specific data.\n",
    "\n",
    "In summary, `self` is a fundamental concept in Python classes that provides a way for methods to interact with the instance's data and other methods, enabling object-oriented behavior and encapsulation."
   ]
  },
  {
   "cell_type": "markdown",
   "id": "f23ce882",
   "metadata": {},
   "source": [
    "# 7. For a library management system, you have to design the \"Book\" class with OOP  principles in mind. The “Book” class will have following attributes:\n",
    "\n",
    "#### a. title: Represents the title of the book.\n",
    "#### b. author: Represents the author(s) of the book.\n",
    "#### c. isbn: Represents the ISBN (International Standard Book Number) of the book.\n",
    "#### d. publication_year: Represents the year of publication of the book.\n",
    "#### e. available_copies: Represents the number of copies available for checkout.\n",
    "\n",
    "### The class will also include the following methods:\n",
    "#### a. check_out(self): Decrements the available copies by one if there are copies available for checkout.\n",
    "#### b. return_book(self): Increments the available copies by one when a book is returned.\n",
    "#### c. display_book_info(self): Displays the information about the book, including its attributes and the number of available copies.\n"
   ]
  },
  {
   "cell_type": "markdown",
   "id": "dd367a78",
   "metadata": {},
   "source": [
    "To design a `Book` class for a library management system using Object-Oriented Programming (OOP) principles, you can follow these steps:\n",
    "\n",
    "1. **Define the class with the required attributes**: `title`, `author`, `isbn`, `publication_year`, and `available_copies`.\n",
    "2. **Implement the methods**: `check_out`, `return_book`, and `display_book_info`.\n",
    "\n",
    "Here is an example implementation in Python:\n",
    "\n"
   ]
  },
  {
   "cell_type": "code",
   "execution_count": 28,
   "id": "4e34a956",
   "metadata": {},
   "outputs": [],
   "source": [
    "\n",
    "class Book:\n",
    "    def __init__(self, title, author, isbn, publication_year, available_copies):\n",
    "        # Initializing the attributes\n",
    "        self.title = title\n",
    "        self.author = author\n",
    "        self.isbn = isbn\n",
    "        self.publication_year = publication_year\n",
    "        self.available_copies = available_copies\n",
    "\n",
    "    def check_out(self):\n",
    "        # Decrement available copies if there are copies available\n",
    "        if self.available_copies > 0:\n",
    "            self.available_copies -= 1\n",
    "            print(f\"Checked out '{self.title}'.\")\n",
    "        else:\n",
    "            print(f\"Sorry, '{self.title}' is not available for checkout.\")\n",
    "\n",
    "    def return_book(self):\n",
    "        # Increment available copies when a book is returned\n",
    "        self.available_copies += 1\n",
    "        print(f\"Returned '{self.title}'.\")\n",
    "\n",
    "    def display_book_info(self):\n",
    "        # Display the book information\n",
    "        info = (f\"Title: {self.title}\\n\"\n",
    "                f\"Author: {self.author}\\n\"\n",
    "                f\"ISBN: {self.isbn}\\n\"\n",
    "                f\"Publication Year: {self.publication_year}\\n\"\n",
    "                f\"Available Copies: {self.available_copies}\")\n",
    "        print(info)\n",
    "\n"
   ]
  },
  {
   "cell_type": "code",
   "execution_count": 29,
   "id": "a74baee3",
   "metadata": {},
   "outputs": [],
   "source": [
    "# Example usage\n",
    "book1 = Book(\"The Great Gatsby\", \"F. Scott Fitzgerald\", \"9780743273565\", 1925, 3)\n",
    "\n"
   ]
  },
  {
   "cell_type": "code",
   "execution_count": 30,
   "id": "d33d2961",
   "metadata": {},
   "outputs": [
    {
     "name": "stdout",
     "output_type": "stream",
     "text": [
      "Title: The Great Gatsby\n",
      "Author: F. Scott Fitzgerald\n",
      "ISBN: 9780743273565\n",
      "Publication Year: 1925\n",
      "Available Copies: 3\n"
     ]
    }
   ],
   "source": [
    "# Display book information\n",
    "book1.display_book_info()\n",
    "\n"
   ]
  },
  {
   "cell_type": "code",
   "execution_count": 31,
   "id": "e69147c8",
   "metadata": {},
   "outputs": [
    {
     "name": "stdout",
     "output_type": "stream",
     "text": [
      "Checked out 'The Great Gatsby'.\n"
     ]
    }
   ],
   "source": [
    "# Check out a book\n",
    "book1.check_out()\n",
    "\n",
    "\n",
    "\n"
   ]
  },
  {
   "cell_type": "code",
   "execution_count": 32,
   "id": "d5d7b3fb",
   "metadata": {},
   "outputs": [
    {
     "name": "stdout",
     "output_type": "stream",
     "text": [
      "Title: The Great Gatsby\n",
      "Author: F. Scott Fitzgerald\n",
      "ISBN: 9780743273565\n",
      "Publication Year: 1925\n",
      "Available Copies: 2\n"
     ]
    }
   ],
   "source": [
    "# Display book information after checkout\n",
    "book1.display_book_info()\n",
    "\n"
   ]
  },
  {
   "cell_type": "code",
   "execution_count": 33,
   "id": "ede5eb48",
   "metadata": {},
   "outputs": [
    {
     "name": "stdout",
     "output_type": "stream",
     "text": [
      "Returned 'The Great Gatsby'.\n"
     ]
    }
   ],
   "source": [
    "# Return a book\n",
    "book1.return_book()\n",
    "\n"
   ]
  },
  {
   "cell_type": "code",
   "execution_count": 34,
   "id": "808d9f3c",
   "metadata": {},
   "outputs": [
    {
     "name": "stdout",
     "output_type": "stream",
     "text": [
      "Title: The Great Gatsby\n",
      "Author: F. Scott Fitzgerald\n",
      "ISBN: 9780743273565\n",
      "Publication Year: 1925\n",
      "Available Copies: 3\n"
     ]
    }
   ],
   "source": [
    "# Display book information after return\n",
    "book1.display_book_info()\n"
   ]
  },
  {
   "cell_type": "markdown",
   "id": "52e29573",
   "metadata": {},
   "source": [
    "### **Explanation:**\n",
    "\n",
    "1. **Attributes:**\n",
    "   - `title`, `author`, `isbn`, `publication_year`, and `available_copies` are instance attributes defined in the `__init__` method. They represent the properties of each book object.\n",
    "\n",
    "2. **Methods:**\n",
    "   - **`check_out(self)`**:\n",
    "     - This method decreases the number of available copies by 1 if there are copies available. If no copies are available, it prints a message indicating that the book cannot be checked out.\n",
    "   - **`return_book(self)`**:\n",
    "     - This method increases the number of available copies by 1 when the book is returned.\n",
    "   - **`display_book_info(self)`**:\n",
    "     - This method prints out the information about the book, including its title, author, ISBN, publication year, and the number of available copies.\n",
    "\n",
    "This class encapsulates the details and behaviors related to a book, allowing you to manage books in a library effectively."
   ]
  },
  {
   "cell_type": "code",
   "execution_count": null,
   "id": "13152d22",
   "metadata": {},
   "outputs": [],
   "source": []
  },
  {
   "cell_type": "markdown",
   "id": "1f4061fd",
   "metadata": {},
   "source": [
    "# 8. For a ticket booking system, you have to design the \"Ticket\" class with OOP\n",
    "### principles in mind. The “Ticket” class should have the following attributes:\n",
    "#### a. ticket_id: Represents the unique identifier for the ticket.\n",
    "#### b. event_name: Represents the name of the event.\n",
    "#### c. event_date: Represents the date of the event.\n",
    "#### d. venue: Represents the venue of the event.\n",
    "#### e. seat_number: Represents the seat number associated with the ticket.\n",
    "#### f. price: Represents the price of the ticket.\n",
    "#### g. is_reserved: Represents the reservation status of the ticket.\n",
    "### The class also includes the following methods:\n",
    "#### a. reserve_ticket(self): Marks the ticket as reserved if it is not already reserved.\n",
    "#### b. cancel_reservation(self): Cancels the reservation of the ticket if it is already reserved.\n",
    "#### c. display_ticket_info(self): Displays the information about the ticket, including its attributes and reservation status."
   ]
  },
  {
   "cell_type": "code",
   "execution_count": null,
   "id": "3eab2579",
   "metadata": {},
   "outputs": [],
   "source": []
  },
  {
   "cell_type": "markdown",
   "id": "6be5157f",
   "metadata": {},
   "source": [
    "To design a `Ticket` class for a ticket booking system using Object-Oriented Programming (OOP) principles,\n",
    "you need to define the class with the specified attributes and methods. Here’s how you can implement the \n",
    "`Ticket` class in Python:"
   ]
  },
  {
   "cell_type": "code",
   "execution_count": 35,
   "id": "1955388a",
   "metadata": {},
   "outputs": [],
   "source": [
    "\n",
    "### **Implementation**\n",
    "\n",
    "class Ticket:\n",
    "    def __init__(self, ticket_id, event_name, event_date, venue, seat_number, price):\n",
    "        # Initializing the attributes\n",
    "        self.ticket_id = ticket_id\n",
    "        self.event_name = event_name\n",
    "        self.event_date = event_date\n",
    "        self.venue = venue\n",
    "        self.seat_number = seat_number\n",
    "        self.price = price\n",
    "        self.is_reserved = False  # By default, the ticket is not reserved\n",
    "\n",
    "    def reserve_ticket(self):\n",
    "        # Mark the ticket as reserved if it is not already reserved\n",
    "        if not self.is_reserved:\n",
    "            self.is_reserved = True\n",
    "            print(f\"Ticket {self.ticket_id} has been reserved.\")\n",
    "        else:\n",
    "            print(f\"Ticket {self.ticket_id} is already reserved.\")\n",
    "\n",
    "    def cancel_reservation(self):\n",
    "        # Cancel the reservation if the ticket is already reserved\n",
    "        if self.is_reserved:\n",
    "            self.is_reserved = False\n",
    "            print(f\"Reservation for ticket {self.ticket_id} has been canceled.\")\n",
    "        else:\n",
    "            print(f\"Ticket {self.ticket_id} is not reserved and cannot be canceled.\")\n",
    "\n",
    "    def display_ticket_info(self):\n",
    "        # Display the ticket information\n",
    "        reservation_status = \"Reserved\" if self.is_reserved else \"Available\"\n",
    "        info = (f\"Ticket ID: {self.ticket_id}\\n\"\n",
    "                f\"Event Name: {self.event_name}\\n\"\n",
    "                f\"Event Date: {self.event_date}\\n\"\n",
    "                f\"Venue: {self.venue}\\n\"\n",
    "                f\"Seat Number: {self.seat_number}\\n\"\n",
    "                f\"Price: ${self.price}\\n\"\n",
    "                f\"Reservation Status: {reservation_status}\")\n",
    "        print(info)\n",
    "\n"
   ]
  },
  {
   "cell_type": "code",
   "execution_count": 36,
   "id": "f9f38743",
   "metadata": {},
   "outputs": [],
   "source": [
    "# Example usage\n",
    "ticket1 = Ticket(\"T12345\", \"Concert\", \"2024-09-15\", \"Grand Arena\", \"A10\", 100)\n",
    "\n"
   ]
  },
  {
   "cell_type": "code",
   "execution_count": 37,
   "id": "248d9c9f",
   "metadata": {},
   "outputs": [
    {
     "name": "stdout",
     "output_type": "stream",
     "text": [
      "Ticket ID: T12345\n",
      "Event Name: Concert\n",
      "Event Date: 2024-09-15\n",
      "Venue: Grand Arena\n",
      "Seat Number: A10\n",
      "Price: $100\n",
      "Reservation Status: Available\n"
     ]
    }
   ],
   "source": [
    "# Display ticket information\n",
    "ticket1.display_ticket_info()\n",
    "\n"
   ]
  },
  {
   "cell_type": "code",
   "execution_count": 38,
   "id": "254de10d",
   "metadata": {},
   "outputs": [
    {
     "name": "stdout",
     "output_type": "stream",
     "text": [
      "Ticket T12345 has been reserved.\n"
     ]
    }
   ],
   "source": [
    "# Reserve a ticket\n",
    "ticket1.reserve_ticket()\n",
    "\n"
   ]
  },
  {
   "cell_type": "code",
   "execution_count": 39,
   "id": "6d3027e6",
   "metadata": {},
   "outputs": [
    {
     "name": "stdout",
     "output_type": "stream",
     "text": [
      "Ticket ID: T12345\n",
      "Event Name: Concert\n",
      "Event Date: 2024-09-15\n",
      "Venue: Grand Arena\n",
      "Seat Number: A10\n",
      "Price: $100\n",
      "Reservation Status: Reserved\n"
     ]
    }
   ],
   "source": [
    "\n",
    "# Display ticket information after reservation\n",
    "ticket1.display_ticket_info()\n",
    "\n",
    "\n"
   ]
  },
  {
   "cell_type": "code",
   "execution_count": 40,
   "id": "672d2f99",
   "metadata": {},
   "outputs": [
    {
     "name": "stdout",
     "output_type": "stream",
     "text": [
      "Reservation for ticket T12345 has been canceled.\n"
     ]
    }
   ],
   "source": [
    "# Cancel reservation\n",
    "ticket1.cancel_reservation()\n",
    "\n"
   ]
  },
  {
   "cell_type": "code",
   "execution_count": 41,
   "id": "f8e38804",
   "metadata": {},
   "outputs": [
    {
     "name": "stdout",
     "output_type": "stream",
     "text": [
      "Ticket ID: T12345\n",
      "Event Name: Concert\n",
      "Event Date: 2024-09-15\n",
      "Venue: Grand Arena\n",
      "Seat Number: A10\n",
      "Price: $100\n",
      "Reservation Status: Available\n"
     ]
    }
   ],
   "source": [
    "# Display ticket information after cancellation\n",
    "ticket1.display_ticket_info()\n"
   ]
  },
  {
   "cell_type": "code",
   "execution_count": null,
   "id": "18b55bf9",
   "metadata": {},
   "outputs": [],
   "source": []
  },
  {
   "cell_type": "code",
   "execution_count": null,
   "id": "1dc92383",
   "metadata": {},
   "outputs": [],
   "source": []
  },
  {
   "cell_type": "markdown",
   "id": "dc395371",
   "metadata": {},
   "source": [
    "### **Explanation:**\n",
    "\n",
    "1. **Attributes:**\n",
    "   - `ticket_id`: Unique identifier for the ticket.\n",
    "   - `event_name`: Name of the event.\n",
    "   - `event_date`: Date of the event.\n",
    "   - `venue`: Venue where the event is taking place.\n",
    "   - `seat_number`: Seat number associated with the ticket.\n",
    "   - `price`: Price of the ticket.\n",
    "   - `is_reserved`: A boolean indicating whether the ticket is reserved or not. Initialized to `False` (not reserved) by default.\n",
    "\n",
    "2. **Methods:**\n",
    "   - **`reserve_ticket(self)`**:\n",
    "     - This method marks the ticket as reserved if it is not already reserved. If the ticket is already reserved, it prints a message indicating that the ticket cannot be reserved again.\n",
    "   - **`cancel_reservation(self)`**:\n",
    "     - This method cancels the reservation if the ticket is currently reserved. If the ticket is not reserved, it prints a message indicating that there is no reservation to cancel.\n",
    "   - **`display_ticket_info(self)`**:\n",
    "     - This method prints out the ticket’s information, including its ID, event details, seat number, price, and reservation status.\n",
    "\n",
    "This class encapsulates the details and behaviors related to a ticket, allowing you to manage ticket reservations effectively in a booking system."
   ]
  },
  {
   "cell_type": "code",
   "execution_count": null,
   "id": "8edbfe64",
   "metadata": {},
   "outputs": [],
   "source": []
  },
  {
   "cell_type": "markdown",
   "id": "71caddfe",
   "metadata": {},
   "source": [
    "# 9. You are creating a shopping cart for an e-commerce website. Using OOP to model\n",
    "#### the \"ShoppingCart\" functionality the class should contain following attributes and methods:\n",
    "#### a. items: Represents the list of items in the shopping cart. The class also includes the following methods:\n",
    "#### a. add_item(self, item): Adds an item to the shopping cart by appending it to the list of items.\n",
    "#### b. remove_item(self, item): Removes an item from the shopping cart if it exists in the list.\n",
    "#### c. view_cart(self): Displays the items currently present in the shopping cart.\n",
    "#### d. clear_cart(self): Clears all items from the shopping cart by reassigning an empty list to the items attribute.\n"
   ]
  },
  {
   "cell_type": "markdown",
   "id": "edfe1103",
   "metadata": {},
   "source": [
    "To design a `ShoppingCart` class for an e-commerce website using Object-Oriented Programming (OOP) principles, you'll define a class with the specified attributes and methods. The `ShoppingCart` class will handle operations related to adding, removing, viewing, and clearing items in the cart.\n",
    "\n",
    "Here's how you can implement the `ShoppingCart` class in Python:"
   ]
  },
  {
   "cell_type": "code",
   "execution_count": 42,
   "id": "7a922f83",
   "metadata": {},
   "outputs": [],
   "source": [
    "\n",
    "\n",
    "### **Implementation**\n",
    "class ShoppingCart:\n",
    "    def __init__(self):\n",
    "        # Initialize the cart with an empty list of items\n",
    "        self.items = []\n",
    "\n",
    "    def add_item(self, item):\n",
    "        # Add an item to the shopping cart\n",
    "        self.items.append(item)\n",
    "        print(f\"Item '{item}' added to the cart.\")\n",
    "\n",
    "    def remove_item(self, item):\n",
    "        # Remove an item from the shopping cart if it exists\n",
    "        if item in self.items:\n",
    "            self.items.remove(item)\n",
    "            print(f\"Item '{item}' removed from the cart.\")\n",
    "        else:\n",
    "            print(f\"Item '{item}' not found in the cart.\")\n",
    "\n",
    "    def view_cart(self):\n",
    "        # Display the items currently in the shopping cart\n",
    "        if self.items:\n",
    "            print(\"Items in your cart:\")\n",
    "            for item in self.items:\n",
    "                print(f\"- {item}\")\n",
    "        else:\n",
    "            print(\"Your cart is empty.\")\n",
    "\n",
    "    def clear_cart(self):\n",
    "        # Clear all items from the shopping cart\n",
    "        self.items = []\n",
    "        print(\"Your cart has been cleared.\")\n"
   ]
  },
  {
   "cell_type": "code",
   "execution_count": 43,
   "id": "edd9a9a7",
   "metadata": {},
   "outputs": [],
   "source": [
    "\n",
    "# Example usage\n",
    "cart = ShoppingCart()\n",
    "\n"
   ]
  },
  {
   "cell_type": "code",
   "execution_count": 44,
   "id": "7f2cd204",
   "metadata": {},
   "outputs": [
    {
     "name": "stdout",
     "output_type": "stream",
     "text": [
      "Item 'Laptop' added to the cart.\n",
      "Item 'Headphones' added to the cart.\n",
      "Item 'Keyboard' added to the cart.\n"
     ]
    }
   ],
   "source": [
    "# Add items to the cart\n",
    "cart.add_item(\"Laptop\")\n",
    "cart.add_item(\"Headphones\")\n",
    "cart.add_item(\"Keyboard\")\n"
   ]
  },
  {
   "cell_type": "code",
   "execution_count": 45,
   "id": "8a95cd06",
   "metadata": {},
   "outputs": [
    {
     "name": "stdout",
     "output_type": "stream",
     "text": [
      "Items in your cart:\n",
      "- Laptop\n",
      "- Headphones\n",
      "- Keyboard\n"
     ]
    }
   ],
   "source": [
    "\n",
    "# View items in the cart\n",
    "cart.view_cart()\n",
    "\n"
   ]
  },
  {
   "cell_type": "code",
   "execution_count": 46,
   "id": "b0014f72",
   "metadata": {},
   "outputs": [
    {
     "name": "stdout",
     "output_type": "stream",
     "text": [
      "Item 'Headphones' removed from the cart.\n"
     ]
    }
   ],
   "source": [
    "# Remove an item from the cart\n",
    "cart.remove_item(\"Headphones\")\n",
    "\n"
   ]
  },
  {
   "cell_type": "code",
   "execution_count": 47,
   "id": "b7032bbb",
   "metadata": {},
   "outputs": [
    {
     "name": "stdout",
     "output_type": "stream",
     "text": [
      "Items in your cart:\n",
      "- Laptop\n",
      "- Keyboard\n"
     ]
    }
   ],
   "source": [
    "# View items in the cart after removal\n",
    "cart.view_cart()\n",
    "\n"
   ]
  },
  {
   "cell_type": "code",
   "execution_count": 48,
   "id": "118d2d3a",
   "metadata": {},
   "outputs": [
    {
     "name": "stdout",
     "output_type": "stream",
     "text": [
      "Your cart has been cleared.\n"
     ]
    }
   ],
   "source": [
    "# Clear the cart\n",
    "cart.clear_cart()\n",
    "\n"
   ]
  },
  {
   "cell_type": "code",
   "execution_count": 49,
   "id": "04f7f0d7",
   "metadata": {},
   "outputs": [
    {
     "name": "stdout",
     "output_type": "stream",
     "text": [
      "Your cart is empty.\n"
     ]
    }
   ],
   "source": [
    "# View items in the cart after clearing\n",
    "cart.view_cart()\n",
    "\n"
   ]
  },
  {
   "cell_type": "code",
   "execution_count": null,
   "id": "97d633b2",
   "metadata": {},
   "outputs": [],
   "source": []
  },
  {
   "cell_type": "markdown",
   "id": "845d49ca",
   "metadata": {},
   "source": [
    "\n",
    "### **Explanation:**\n",
    "\n",
    "1. **Attributes:**\n",
    "   - `items`: A list that holds the items currently in the shopping cart. It is initialized as an empty list in the `__init__` method.\n",
    "\n",
    "2. **Methods:**\n",
    "   - **`add_item(self, item)`**:\n",
    "     - Adds an item to the `items` list. Prints a confirmation message.\n",
    "   - **`remove_item(self, item)`**:\n",
    "     - Removes an item from the `items` list if it exists. If the item is not found, it prints a message indicating that the item is not in the cart.\n",
    "   - **`view_cart(self)`**:\n",
    "     - Displays the current items in the shopping cart. If the cart is empty, it prints a message indicating that the cart is empty.\n",
    "   - **`clear_cart(self)`**:\n",
    "     - Clears all items from the `items` list by reassigning it to an empty list. Prints a confirmation message.\n",
    "\n",
    "This `ShoppingCart` class models the functionality of a shopping cart, allowing you to manage items within the cart efficiently. The example usage demonstrates how to interact with the class to perform various operations."
   ]
  },
  {
   "cell_type": "markdown",
   "id": "af4902d5",
   "metadata": {},
   "source": []
  },
  {
   "cell_type": "code",
   "execution_count": null,
   "id": "6e79a7c2",
   "metadata": {},
   "outputs": [],
   "source": []
  },
  {
   "cell_type": "markdown",
   "id": "c22d6c02",
   "metadata": {},
   "source": [
    "# 10. Imagine a school management system. You have to design the \"Student\" class using OOP concepts.The “Student” class has the following attributes:\n",
    "#### a. name: Represents the name of the student.\n",
    "#### b. age: Represents the age of the student.\n",
    "##### c. grade: Represents the grade or class of the student.\n",
    "##### d. student_id: Represents the unique identifier for the student.\n",
    "##### e. attendance: Represents the attendance record of the student.\n",
    "### The class should also include the following methods:\n",
    "#### a. update_attendance(self, date, status): Updates the attendance record of the student for a given date with the provided status (e.g., present or absent).\n",
    "##### b. get_attendance(self): Returns the attendance record of the student.\n",
    "##### c. get_average_attendance(self): Calculates and returns the average attendance percentage of the student based on their attendance record."
   ]
  },
  {
   "cell_type": "markdown",
   "id": "e7ac4ba6",
   "metadata": {},
   "source": [
    "To design the `Student` class for a school management system using Object-Oriented Programming (OOP) principles, you'll need to define the class with specific attributes and methods. Here’s a detailed implementation:\n",
    "\n",
    "### **Student Class Implementation**\n",
    "\n"
   ]
  },
  {
   "cell_type": "code",
   "execution_count": 50,
   "id": "d1d55fb7",
   "metadata": {},
   "outputs": [],
   "source": [
    "\n",
    "class Student:\n",
    "    def __init__(self, name, age, grade, student_id):\n",
    "        \"\"\"\n",
    "        Initializes a new student with the given attributes.\n",
    "        :param name: The name of the student\n",
    "        :param age: The age of the student\n",
    "        :param grade: The grade or class of the student\n",
    "        :param student_id: The unique identifier for the student\n",
    "        \"\"\"\n",
    "        self.name = name\n",
    "        self.age = age\n",
    "        self.grade = grade\n",
    "        self.student_id = student_id\n",
    "        self.attendance = {}  # Dictionary to store attendance records (date: status)\n",
    "\n",
    "    def update_attendance(self, date, status):\n",
    "        \"\"\"\n",
    "        Updates the attendance record for a given date with the provided status.\n",
    "        :param date: The date of the attendance record\n",
    "        :param status: The status of attendance ('present' or 'absent')\n",
    "        \"\"\"\n",
    "        \n",
    "        if status not in [\"present\", \"absent\"]:\n",
    "            print(\"Error: Status must be 'present' or 'absent'.\")\n",
    "            return\n",
    "        self.attendance[date] = status\n",
    "        print(f\"Attendance updated for {self.name} on {date} with status '{status}'.\")\n",
    "\n",
    "    def get_attendance(self):\n",
    "        \"\"\"\n",
    "        Returns the attendance record of the student.\n",
    "        :return: Dictionary of attendance records\n",
    "        \"\"\"\n",
    "        return self.attendance\n",
    "\n",
    "    def get_average_attendance(self):\n",
    "        \"\"\"\n",
    "        Calculates and returns the average attendance percentage.\n",
    "        :return: Average attendance percentage\n",
    "        \"\"\"\n",
    "        total_days = len(self.attendance)\n",
    "        if total_days == 0:\n",
    "            return 0  # No attendance records available\n",
    "\n",
    "        present_days = list(self.attendance.values()).count(\"present\")\n",
    "        average_attendance = (present_days / total_days) * 100\n",
    "        return average_attendance\n",
    "\n"
   ]
  },
  {
   "cell_type": "code",
   "execution_count": 51,
   "id": "ff1a6bda",
   "metadata": {},
   "outputs": [],
   "source": [
    "# Example usage\n",
    "student1 = Student(\"Alice\", 15, \"10th Grade\", \"S1234\")\n",
    "\n"
   ]
  },
  {
   "cell_type": "code",
   "execution_count": 52,
   "id": "5512cf7a",
   "metadata": {},
   "outputs": [
    {
     "name": "stdout",
     "output_type": "stream",
     "text": [
      "Attendance updated for Alice on 2024-07-01 with status 'present'.\n",
      "Attendance updated for Alice on 2024-07-02 with status 'absent'.\n",
      "Attendance updated for Alice on 2024-07-03 with status 'present'.\n"
     ]
    }
   ],
   "source": [
    "# Update attendance records\n",
    "student1.update_attendance(\"2024-07-01\", \"present\")\n",
    "student1.update_attendance(\"2024-07-02\", \"absent\")\n",
    "student1.update_attendance(\"2024-07-03\", \"present\")\n",
    "\n"
   ]
  },
  {
   "cell_type": "code",
   "execution_count": 53,
   "id": "0f718ac0",
   "metadata": {},
   "outputs": [
    {
     "name": "stdout",
     "output_type": "stream",
     "text": [
      "Attendance Record: {'2024-07-01': 'present', '2024-07-02': 'absent', '2024-07-03': 'present'}\n"
     ]
    }
   ],
   "source": [
    "# Get attendance record\n",
    "attendance_record = student1.get_attendance()\n",
    "print(\"Attendance Record:\", attendance_record)\n",
    "\n"
   ]
  },
  {
   "cell_type": "code",
   "execution_count": 54,
   "id": "a183c9e5",
   "metadata": {},
   "outputs": [
    {
     "name": "stdout",
     "output_type": "stream",
     "text": [
      "Average Attendance: 66.67%\n"
     ]
    }
   ],
   "source": [
    "# Get average attendance\n",
    "average_attendance = student1.get_average_attendance()\n",
    "print(f\"Average Attendance: {average_attendance:.2f}%\")\n",
    "\n"
   ]
  },
  {
   "cell_type": "code",
   "execution_count": null,
   "id": "3fa01cc0",
   "metadata": {},
   "outputs": [],
   "source": []
  },
  {
   "cell_type": "code",
   "execution_count": null,
   "id": "67376a5f",
   "metadata": {},
   "outputs": [],
   "source": []
  },
  {
   "cell_type": "code",
   "execution_count": null,
   "id": "e32a83bf",
   "metadata": {},
   "outputs": [],
   "source": []
  },
  {
   "cell_type": "markdown",
   "id": "b771d419",
   "metadata": {},
   "source": [
    "\n",
    "### **Explanation:**\n",
    "\n",
    "1. **Attributes**:\n",
    "   - `name`: Represents the student's name.\n",
    "   - `age`: Represents the student's age.\n",
    "   - `grade`: Represents the student's current grade or class.\n",
    "   - `student_id`: Represents a unique identifier for the student.\n",
    "   - `attendance`: A dictionary where the keys are dates and the values are the status (\"present\" or \"absent\").\n",
    "\n",
    "2. **Methods**:\n",
    "   - **`update_attendance(self, date, status)`**:\n",
    "     - Updates the attendance record for a given date with the provided status. The status must be \"present\" or \"absent\"; otherwise, an error message is printed.\n",
    "   - **`get_attendance(self)`**:\n",
    "     - Returns the current attendance record of the student.\n",
    "   - **`get_average_attendance(self)`**:\n",
    "     - Calculates the average attendance percentage based on the number of \"present\" days compared to the total number of recorded days. If there are no records, it returns 0%.\n",
    "\n",
    "This class design encapsulates the student's details and attendance management, providing a clear and manageable way to handle student information in a school management system."
   ]
  },
  {
   "cell_type": "markdown",
   "id": "c7f4bc2f",
   "metadata": {},
   "source": [
    "### Thank YOU ####"
   ]
  },
  {
   "cell_type": "code",
   "execution_count": null,
   "id": "c9194e64",
   "metadata": {},
   "outputs": [],
   "source": []
  }
 ],
 "metadata": {
  "kernelspec": {
   "display_name": "Python 3 (ipykernel)",
   "language": "python",
   "name": "python3"
  },
  "language_info": {
   "codemirror_mode": {
    "name": "ipython",
    "version": 3
   },
   "file_extension": ".py",
   "mimetype": "text/x-python",
   "name": "python",
   "nbconvert_exporter": "python",
   "pygments_lexer": "ipython3",
   "version": "3.11.5"
  }
 },
 "nbformat": 4,
 "nbformat_minor": 5
}
